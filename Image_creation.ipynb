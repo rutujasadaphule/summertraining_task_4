{
 "cells": [
  {
   "cell_type": "code",
   "execution_count": 11,
   "id": "removed-furniture",
   "metadata": {},
   "outputs": [],
   "source": [
    "import cv2"
   ]
  },
  {
   "cell_type": "code",
   "execution_count": 12,
   "id": "sunset-revelation",
   "metadata": {},
   "outputs": [],
   "source": [
    "import numpy as np"
   ]
  },
  {
   "cell_type": "code",
   "execution_count": 13,
   "id": "ranging-uncertainty",
   "metadata": {},
   "outputs": [],
   "source": [
    "photo = np.zeros((500,600))"
   ]
  },
  {
   "cell_type": "code",
   "execution_count": 14,
   "id": "vocational-rebecca",
   "metadata": {},
   "outputs": [],
   "source": [
    "face=cv2.rectangle(photo, (100, 100), (500, 400), (255,255,255), 5)\n",
    "right_ear=cv2.circle(photo, (150, 70), 30, (255,255,255), 5)\n",
    "left_ear=cv2.circle(photo, (450, 70), 30, (255,255,255), 5)\n",
    "right_eye=cv2.circle(photo, (200, 200), 40, (255,255,255), 5)\n",
    "left_eye=cv2.circle(photo, (400, 200), 40, (255,255,255), 5)\n",
    "nose=cv2.rectangle(photo, (275, 210), (325, 350), (255,255,255), 5)\n",
    "mouth=cv2.rectangle(photo, (200, 370), (400, 400), (255,255,255), 5)"
   ]
  },
  {
   "cell_type": "code",
   "execution_count": 15,
   "id": "scheduled-skill",
   "metadata": {},
   "outputs": [],
   "source": [
    "cv2.imshow('robot',photo)\n",
    "cv2.waitKey()\n",
    "cv2.destroyAllWindows()"
   ]
  },
  {
   "cell_type": "code",
   "execution_count": null,
   "id": "municipal-foundation",
   "metadata": {},
   "outputs": [],
   "source": []
  }
 ],
 "metadata": {
  "kernelspec": {
   "display_name": "Python 3",
   "language": "python",
   "name": "python3"
  },
  "language_info": {
   "codemirror_mode": {
    "name": "ipython",
    "version": 3
   },
   "file_extension": ".py",
   "mimetype": "text/x-python",
   "name": "python",
   "nbconvert_exporter": "python",
   "pygments_lexer": "ipython3",
   "version": "3.9.0"
  }
 },
 "nbformat": 4,
 "nbformat_minor": 5
}
