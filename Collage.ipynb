{
 "cells": [
  {
   "cell_type": "code",
   "execution_count": 8,
   "id": "ancient-southwest",
   "metadata": {},
   "outputs": [],
   "source": [
    "import cv2"
   ]
  },
  {
   "cell_type": "code",
   "execution_count": 9,
   "id": "centered-poetry",
   "metadata": {},
   "outputs": [],
   "source": [
    "import numpy as np"
   ]
  },
  {
   "cell_type": "code",
   "execution_count": 10,
   "id": "mediterranean-sponsorship",
   "metadata": {},
   "outputs": [],
   "source": [
    "photo1 = cv2.imread('galaxy1.PNG') \n",
    "photo2 = cv2.imread('galaxy2.PNG') "
   ]
  },
  {
   "cell_type": "code",
   "execution_count": 11,
   "id": "electronic-romantic",
   "metadata": {},
   "outputs": [],
   "source": [
    "cv2.imshow('galaxy1', photo1)\n",
    "cv2.waitKey()\n",
    "cv2.destroyAllWindows()"
   ]
  },
  {
   "cell_type": "code",
   "execution_count": 12,
   "id": "possible-broadcast",
   "metadata": {},
   "outputs": [],
   "source": [
    "cv2.imshow('galaxy2', photo2)\n",
    "cv2.waitKey()\n",
    "cv2.destroyAllWindows()"
   ]
  },
  {
   "cell_type": "code",
   "execution_count": 13,
   "id": "separated-shuttle",
   "metadata": {},
   "outputs": [],
   "source": [
    "collage_photo=np.hstack((photo1, photo2))"
   ]
  },
  {
   "cell_type": "code",
   "execution_count": 14,
   "id": "loved-guide",
   "metadata": {},
   "outputs": [],
   "source": [
    "cv2.imshow('Collage', collage_photo)\n",
    "cv2.waitKey()\n",
    "cv2.destroyAllWindows()"
   ]
  },
  {
   "cell_type": "code",
   "execution_count": null,
   "id": "cleared-identity",
   "metadata": {},
   "outputs": [],
   "source": []
  }
 ],
 "metadata": {
  "kernelspec": {
   "display_name": "Python 3",
   "language": "python",
   "name": "python3"
  },
  "language_info": {
   "codemirror_mode": {
    "name": "ipython",
    "version": 3
   },
   "file_extension": ".py",
   "mimetype": "text/x-python",
   "name": "python",
   "nbconvert_exporter": "python",
   "pygments_lexer": "ipython3",
   "version": "3.9.0"
  }
 },
 "nbformat": 4,
 "nbformat_minor": 5
}
