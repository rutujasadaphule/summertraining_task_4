{
 "cells": [
  {
   "cell_type": "code",
   "execution_count": 15,
   "id": "polar-spank",
   "metadata": {},
   "outputs": [],
   "source": [
    "import cv2"
   ]
  },
  {
   "cell_type": "code",
   "execution_count": 16,
   "id": "judicial-offering",
   "metadata": {},
   "outputs": [],
   "source": [
    "image1=cv2.imread('roses.jpg')\n",
    "image2=cv2.imread('lilies.jpg')"
   ]
  },
  {
   "cell_type": "code",
   "execution_count": 17,
   "id": "administrative-passage",
   "metadata": {},
   "outputs": [
    {
     "data": {
      "text/plain": [
       "(639, 958, 3)"
      ]
     },
     "execution_count": 17,
     "metadata": {},
     "output_type": "execute_result"
    }
   ],
   "source": [
    "image1.shape"
   ]
  },
  {
   "cell_type": "code",
   "execution_count": 18,
   "id": "enclosed-vermont",
   "metadata": {},
   "outputs": [
    {
     "data": {
      "text/plain": [
       "(683, 910, 3)"
      ]
     },
     "execution_count": 18,
     "metadata": {},
     "output_type": "execute_result"
    }
   ],
   "source": [
    "image2.shape"
   ]
  },
  {
   "cell_type": "code",
   "execution_count": 19,
   "id": "detected-planet",
   "metadata": {},
   "outputs": [],
   "source": [
    "cv2.imshow('roses', image1)\n",
    "cv2.waitKey()\n",
    "cv2.destroyAllWindows()"
   ]
  },
  {
   "cell_type": "code",
   "execution_count": 20,
   "id": "enabling-contract",
   "metadata": {},
   "outputs": [],
   "source": [
    "cv2.imshow('lilies', image2)\n",
    "cv2.waitKey()\n",
    "cv2.destroyAllWindows()"
   ]
  },
  {
   "cell_type": "code",
   "execution_count": 21,
   "id": "listed-representative",
   "metadata": {},
   "outputs": [],
   "source": [
    "#cropping one rose\n",
    "bx1=50\n",
    "by1=10\n",
    "bx2=639\n",
    "by2=460\n",
    "rose_crop=image1[bx1:bx2,by1:by2]"
   ]
  },
  {
   "cell_type": "code",
   "execution_count": 22,
   "id": "catholic-response",
   "metadata": {},
   "outputs": [],
   "source": [
    "cv2.imshow('cropped rose', rose_crop)\n",
    "cv2.waitKey()\n",
    "cv2.destroyAllWindows()"
   ]
  },
  {
   "cell_type": "code",
   "execution_count": 23,
   "id": "satellite-basis",
   "metadata": {},
   "outputs": [],
   "source": [
    "# cropping one lily\n",
    "px1=50\n",
    "px2=639\n",
    "py1=10\n",
    "py2=460\n",
    "lily_crop = image2[px1:px2,py1:py2]"
   ]
  },
  {
   "cell_type": "code",
   "execution_count": 24,
   "id": "configured-liberal",
   "metadata": {},
   "outputs": [],
   "source": [
    "cv2.imshow(\"lily cropped\", lily_crop)\n",
    "cv2.waitKey()\n",
    "cv2.destroyAllWindows()"
   ]
  },
  {
   "cell_type": "code",
   "execution_count": 25,
   "id": "instructional-culture",
   "metadata": {},
   "outputs": [],
   "source": [
    "#swapping rose with lily\n",
    "image2=cv2.imread('lilies.jpg')\n",
    "image2[bx1:bx2,by1:by2]=rose_crop"
   ]
  },
  {
   "cell_type": "code",
   "execution_count": 26,
   "id": "disciplinary-quarterly",
   "metadata": {},
   "outputs": [],
   "source": [
    "cv2.imshow(\"rose with lily\", image2)\n",
    "cv2.waitKey()\n",
    "cv2.destroyAllWindows()"
   ]
  },
  {
   "cell_type": "code",
   "execution_count": 27,
   "id": "vocational-locking",
   "metadata": {},
   "outputs": [],
   "source": [
    "#swapping lily with rose \n",
    "image1 = cv2.imread('roses.jpg')\n",
    "image1[bx1:bx2,by1:by2]=lily_crop"
   ]
  },
  {
   "cell_type": "code",
   "execution_count": 28,
   "id": "important-comparison",
   "metadata": {},
   "outputs": [],
   "source": [
    "cv2.imshow(\"lily with rose\", image1)\n",
    "cv2.waitKey()\n",
    "cv2.destroyAllWindows()"
   ]
  },
  {
   "cell_type": "code",
   "execution_count": null,
   "id": "silent-console",
   "metadata": {},
   "outputs": [],
   "source": []
  }
 ],
 "metadata": {
  "kernelspec": {
   "display_name": "Python 3",
   "language": "python",
   "name": "python3"
  },
  "language_info": {
   "codemirror_mode": {
    "name": "ipython",
    "version": 3
   },
   "file_extension": ".py",
   "mimetype": "text/x-python",
   "name": "python",
   "nbconvert_exporter": "python",
   "pygments_lexer": "ipython3",
   "version": "3.9.0"
  }
 },
 "nbformat": 4,
 "nbformat_minor": 5
}
